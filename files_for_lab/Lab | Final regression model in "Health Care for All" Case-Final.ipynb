{
 "cells": [
  {
   "cell_type": "markdown",
   "id": "c983a248",
   "metadata": {},
   "source": [
    "## Lab | Final regression model in \"Health Care for All\" Case\n"
   ]
  },
  {
   "cell_type": "markdown",
   "id": "92007287",
   "metadata": {},
   "source": [
    "Import Datasets"
   ]
  },
  {
   "cell_type": "code",
   "execution_count": null,
   "id": "62abea71",
   "metadata": {},
   "outputs": [],
   "source": [
    "import pandas as pd\n",
    "import numpy as np\n",
    "pd.set_option('display.max_columns', None)\n",
    "import warnings\n",
    "warnings.filterwarnings('ignore')\n",
    "from sklearn.model_selection import cross_val_score\n",
    "from sklearn.model_selection import train_test_split\n",
    "\n",
    "\n",
    "numerical = pd.read_csv('numerical.csv')\n",
    "categorical = pd.read_csv('categorical.csv')\n",
    "targets = pd.read_csv('target.csv')"
   ]
  },
  {
   "cell_type": "markdown",
   "id": "1bb7581b",
   "metadata": {},
   "source": [
    "Concatenating all 3 datasets"
   ]
  },
  {
   "cell_type": "code",
   "execution_count": null,
   "id": "81e6c136",
   "metadata": {},
   "outputs": [],
   "source": [
    "data = pd.concat([numerical, categorical, targets], axis = 1) #concat because we can treat for imbalance, we use label to select which group certain labels belong to"
   ]
  },
  {
   "cell_type": "markdown",
   "id": "85fafcb7",
   "metadata": {},
   "source": [
    "Filtering TARGET B for 1"
   ]
  },
  {
   "cell_type": "code",
   "execution_count": null,
   "id": "05f87ca1",
   "metadata": {},
   "outputs": [],
   "source": [
    "data_all = pd.DataFrame(data[data['TARGET_B'] == 1])\n",
    "data_all"
   ]
  },
  {
   "cell_type": "markdown",
   "id": "79856274",
   "metadata": {},
   "source": [
    "Dropping TARGET B"
   ]
  },
  {
   "cell_type": "code",
   "execution_count": null,
   "id": "397bc044",
   "metadata": {},
   "outputs": [],
   "source": [
    "data_donated = data_all.drop(columns=['TARGET_B'],axis=0)\n",
    "data_donated"
   ]
  },
  {
   "cell_type": "code",
   "execution_count": null,
   "id": "9296f3b6",
   "metadata": {},
   "outputs": [],
   "source": [
    "y = data_donated['TARGET_D']\n",
    "X = data_donated.drop(['TARGET_D'], axis = 1)"
   ]
  },
  {
   "cell_type": "markdown",
   "id": "5a506fc9",
   "metadata": {},
   "source": [
    "##### X-Y Split"
   ]
  },
  {
   "cell_type": "code",
   "execution_count": null,
   "id": "a1b60059",
   "metadata": {},
   "outputs": [],
   "source": [
    "from sklearn.model_selection import train_test_split\n",
    "X_train, X_test, y_train, y_test = train_test_split(X, y, test_size=0.2, random_state=1234)"
   ]
  },
  {
   "cell_type": "markdown",
   "id": "f0623015",
   "metadata": {},
   "source": [
    "##### Splitting in categorical and numerical"
   ]
  },
  {
   "cell_type": "code",
   "execution_count": null,
   "id": "4f871ca6",
   "metadata": {},
   "outputs": [],
   "source": [
    "X_num_train = X_train.select_dtypes(np.number).reset_index()\n",
    "X_num_test = X_test.select_dtypes(np.number).reset_index()\n",
    "\n",
    "X_cat_train = X_train.select_dtypes(np.object)\n",
    "X_cat_test = X_test.select_dtypes (np.object)"
   ]
  },
  {
   "cell_type": "markdown",
   "id": "4527041f",
   "metadata": {},
   "source": [
    "##### MinMax split"
   ]
  },
  {
   "cell_type": "code",
   "execution_count": null,
   "id": "88635939",
   "metadata": {},
   "outputs": [],
   "source": [
    "from sklearn.preprocessing import MinMaxScaler\n",
    "transformer = MinMaxScaler().fit(X_num_train)\n",
    "x_normalized = transformer.transform(X_num_train)\n",
    "x_norm = pd.DataFrame(x_normalized, columns=X_num_train.columns)\n",
    "x_norm.head()"
   ]
  },
  {
   "cell_type": "code",
   "execution_count": null,
   "id": "5bc5aa14",
   "metadata": {},
   "outputs": [],
   "source": [
    "X_test_normalized = transformer.transform(X_num_test)\n",
    "X_test_norm = pd.DataFrame(X_test_normalized, columns = X_num_train.columns)"
   ]
  },
  {
   "cell_type": "markdown",
   "id": "a88b3e33",
   "metadata": {},
   "source": [
    "##### One Hot Encoding"
   ]
  },
  {
   "cell_type": "code",
   "execution_count": null,
   "id": "80312bda",
   "metadata": {},
   "outputs": [],
   "source": [
    "from sklearn.preprocessing import OneHotEncoder\n",
    "encoder = OneHotEncoder(drop='first').fit(X_cat_train)\n",
    "cols = encoder.get_feature_names_out(input_features=X_cat_train.columns)\n",
    "X_cat_train_encoded = pd.DataFrame(encoder.transform(X_cat_train).toarray(),columns=cols)\n",
    "X_cat_train_encoded.head()"
   ]
  },
  {
   "cell_type": "code",
   "execution_count": null,
   "id": "a22a41d3",
   "metadata": {},
   "outputs": [],
   "source": [
    "encoder_cat_test = encoder.transform(X_cat_test)\n",
    "cols = encoder.get_feature_names_out(input_features=X_cat_test.columns)\n",
    "X_cat_test_encoded = pd.DataFrame(encoder.transform(X_cat_test).toarray(),columns=cols)\n",
    "X_cat_test_encoded.head()"
   ]
  },
  {
   "cell_type": "markdown",
   "id": "f5230328",
   "metadata": {},
   "source": [
    "##### Concatenating the transformed data"
   ]
  },
  {
   "cell_type": "code",
   "execution_count": null,
   "id": "162e778f",
   "metadata": {},
   "outputs": [],
   "source": [
    "X_train_transformed = pd.concat([X_cat_train_encoded,x_norm],axis =1)\n",
    "X_test_transformed = pd.concat([X_test_norm,X_cat_test_encoded],axis = 1)"
   ]
  },
  {
   "cell_type": "code",
   "execution_count": null,
   "id": "f796d30b",
   "metadata": {},
   "outputs": [],
   "source": [
    "x_norm = pd.concat([X_train_transformed, X_test_transformed],axis = 0)\n",
    "x_norm"
   ]
  },
  {
   "cell_type": "code",
   "execution_count": null,
   "id": "382c7c6f",
   "metadata": {},
   "outputs": [],
   "source": [
    "numerical_scaled = pd.concat([x_norm,X_test_norm],axis =1)"
   ]
  },
  {
   "cell_type": "markdown",
   "id": "21475620",
   "metadata": {},
   "source": [
    "##### Variance Threshold Feature Selection"
   ]
  },
  {
   "cell_type": "code",
   "execution_count": null,
   "id": "55af07fe",
   "metadata": {},
   "outputs": [],
   "source": [
    "from sklearn.feature_selection import VarianceThreshold \n",
    "var_threshold = 0.040\n",
    "sel = VarianceThreshold(threshold=(var_threshold))\n",
    "\n",
    "# 1) default is threshold = 0 :eliminate all coumns that are identical for all rows\n",
    "# 2) in practice we would scale the columns first, and then apply threshold, or apply \n",
    "#    a different threshold for different columns\n",
    "\n",
    "# This drops the columns that have a variance less than this threshold\n",
    "sel = sel.fit(x_norm)\n",
    "temp = sel.transform(x_norm)\n",
    "temp = pd.DataFrame(temp)\n",
    "print(x_norm.shape)\n",
    "print(temp.shape)"
   ]
  },
  {
   "cell_type": "code",
   "execution_count": null,
   "id": "2894e795",
   "metadata": {},
   "outputs": [],
   "source": [
    "sel.variances_ > var_threshold\n",
    "sel.get_support()\n",
    "var_list = list(sel.get_support())"
   ]
  },
  {
   "cell_type": "code",
   "execution_count": null,
   "id": "6f732848",
   "metadata": {},
   "outputs": [],
   "source": [
    "[col[0] for col in zip(x_norm.columns, var_list) if col[1] == False]"
   ]
  },
  {
   "cell_type": "markdown",
   "id": "7edc462e",
   "metadata": {},
   "source": [
    "##### Dropping all of the columns that were suggested"
   ]
  },
  {
   "cell_type": "code",
   "execution_count": null,
   "id": "6051c835",
   "metadata": {},
   "outputs": [],
   "source": [
    "drop_col = ['STATE_GA',\n",
    " 'STATE_IN',\n",
    " 'STATE_MO',\n",
    " 'STATE_WA',\n",
    " 'STATE_WI',\n",
    " 'GENDER_other',\n",
    " 'TCODE',\n",
    " 'AGE',\n",
    " 'HIT',\n",
    " 'MALEMILI',\n",
    " 'MALEVET',\n",
    " 'VIETVETS',\n",
    " 'WWIIVETS',\n",
    " 'LOCALGOV',\n",
    " 'STATEGOV',\n",
    " 'FEDGOV',\n",
    " 'POP901',\n",
    " 'POP902',\n",
    " 'POP903',\n",
    " 'POP90C4',\n",
    " 'POP90C5',\n",
    " 'ETH1',\n",
    " 'ETH2',\n",
    " 'ETH3',\n",
    " 'ETH4',\n",
    " 'ETH5',\n",
    " 'ETH6',\n",
    " 'ETH7',\n",
    " 'ETH8',\n",
    " 'ETH9',\n",
    " 'ETH10',\n",
    " 'ETH11',\n",
    " 'ETH12',\n",
    " 'ETH13',\n",
    " 'ETH14',\n",
    " 'ETH15',\n",
    " 'ETH16',\n",
    " 'AGE901',\n",
    " 'AGE902',\n",
    " 'AGE903',\n",
    " 'AGE904',\n",
    " 'AGE905',\n",
    " 'AGE906',\n",
    " 'AGE907',\n",
    " 'CHIL1',\n",
    " 'CHIL2',\n",
    " 'CHIL3',\n",
    " 'AGEC1',\n",
    " 'AGEC2',\n",
    " 'AGEC3',\n",
    " 'AGEC4',\n",
    " 'AGEC5',\n",
    " 'AGEC6',\n",
    " 'AGEC7',\n",
    " 'CHILC1',\n",
    " 'CHILC2',\n",
    " 'CHILC3',\n",
    " 'CHILC4',\n",
    " 'CHILC5',\n",
    " 'HHAGE1',\n",
    " 'HHAGE2',\n",
    " 'HHAGE3',\n",
    " 'HHN1',\n",
    " 'HHN2',\n",
    " 'HHN3',\n",
    " 'HHN4',\n",
    " 'HHN5',\n",
    " 'HHN6',\n",
    " 'MARR1',\n",
    " 'MARR2',\n",
    " 'MARR3',\n",
    " 'MARR4',\n",
    " 'HHP1',\n",
    " 'HHP2',\n",
    " 'DW3',\n",
    " 'DW7',\n",
    " 'DW8',\n",
    " 'DW9',\n",
    " 'HV1',\n",
    " 'HV2',\n",
    " 'HV3',\n",
    " 'HV4',\n",
    " 'HU3',\n",
    " 'HU4',\n",
    " 'HHD1',\n",
    " 'HHD2',\n",
    " 'HHD3',\n",
    " 'HHD4',\n",
    " 'HHD5',\n",
    " 'HHD6',\n",
    " 'HHD7',\n",
    " 'HHD8',\n",
    " 'HHD9',\n",
    " 'HHD10',\n",
    " 'HHD11',\n",
    " 'HHD12',\n",
    " 'ETHC1',\n",
    " 'ETHC2',\n",
    " 'ETHC3',\n",
    " 'ETHC4',\n",
    " 'ETHC5',\n",
    " 'ETHC6',\n",
    " 'HUR1',\n",
    " 'RHP1',\n",
    " 'RHP2',\n",
    " 'RHP3',\n",
    " 'RHP4',\n",
    " 'HUPA1',\n",
    " 'HUPA2',\n",
    " 'HUPA3',\n",
    " 'HUPA4',\n",
    " 'HUPA5',\n",
    " 'HUPA6',\n",
    " 'HUPA7',\n",
    " 'DMA',\n",
    " 'IC1',\n",
    " 'IC2',\n",
    " 'IC3',\n",
    " 'IC4',\n",
    " 'IC5',\n",
    " 'IC6',\n",
    " 'IC7',\n",
    " 'IC8',\n",
    " 'IC9',\n",
    " 'IC10',\n",
    " 'IC11',\n",
    " 'IC12',\n",
    " 'IC13',\n",
    " 'IC14',\n",
    " 'IC15',\n",
    " 'IC16',\n",
    " 'IC17',\n",
    " 'IC18',\n",
    " 'IC19',\n",
    " 'IC20',\n",
    " 'IC21',\n",
    " 'IC22',\n",
    " 'IC23',\n",
    " 'HHAS1',\n",
    " 'HHAS2',\n",
    " 'HHAS3',\n",
    " 'HHAS4',\n",
    " 'MC1',\n",
    " 'MC2',\n",
    " 'MC3',\n",
    " 'TPE1',\n",
    " 'TPE2',\n",
    " 'TPE3',\n",
    " 'TPE4',\n",
    " 'TPE5',\n",
    " 'TPE6',\n",
    " 'TPE7',\n",
    " 'TPE8',\n",
    " 'TPE9',\n",
    " 'PEC1',\n",
    " 'TPE10',\n",
    " 'TPE11',\n",
    " 'TPE12',\n",
    " 'TPE13',\n",
    " 'LFC1',\n",
    " 'LFC2',\n",
    " 'LFC3',\n",
    " 'LFC4',\n",
    " 'LFC5',\n",
    " 'LFC6',\n",
    " 'LFC7',\n",
    " 'LFC10',\n",
    " 'OCC1',\n",
    " 'OCC2',\n",
    " 'OCC3',\n",
    " 'OCC4',\n",
    " 'OCC5',\n",
    " 'OCC6',\n",
    " 'OCC7',\n",
    " 'OCC8',\n",
    " 'OCC9',\n",
    " 'OCC10',\n",
    " 'OCC11',\n",
    " 'OCC12',\n",
    " 'OCC13',\n",
    " 'EIC1',\n",
    " 'EIC2',\n",
    " 'EIC3',\n",
    " 'EIC4',\n",
    " 'EIC5',\n",
    " 'EIC6',\n",
    " 'EIC7',\n",
    " 'EIC8',\n",
    " 'EIC9',\n",
    " 'EIC10',\n",
    " 'EIC11',\n",
    " 'EIC12',\n",
    " 'EIC13',\n",
    " 'EIC14',\n",
    " 'EIC15',\n",
    " 'EIC16',\n",
    " 'OEDC1',\n",
    " 'OEDC2',\n",
    " 'OEDC3',\n",
    " 'OEDC4',\n",
    " 'OEDC5',\n",
    " 'OEDC6',\n",
    " 'OEDC7',\n",
    " 'EC1',\n",
    " 'EC2',\n",
    " 'EC3',\n",
    " 'EC4',\n",
    " 'EC5',\n",
    " 'EC6',\n",
    " 'EC7',\n",
    " 'EC8',\n",
    " 'SEC1',\n",
    " 'SEC2',\n",
    " 'SEC3',\n",
    " 'SEC4',\n",
    " 'SEC5',\n",
    " 'AFC1',\n",
    " 'AFC2',\n",
    " 'AFC3',\n",
    " 'AFC4',\n",
    " 'AFC5',\n",
    " 'AFC6',\n",
    " 'VC1',\n",
    " 'VC2',\n",
    " 'VC3',\n",
    " 'VC4',\n",
    " 'ANC1',\n",
    " 'ANC2',\n",
    " 'ANC3',\n",
    " 'ANC4',\n",
    " 'ANC5',\n",
    " 'ANC6',\n",
    " 'ANC7',\n",
    " 'ANC8',\n",
    " 'ANC9',\n",
    " 'ANC10',\n",
    " 'ANC11',\n",
    " 'ANC12',\n",
    " 'ANC13',\n",
    " 'ANC14',\n",
    " 'ANC15',\n",
    " 'POBC1',\n",
    " 'LSC1',\n",
    " 'LSC2',\n",
    " 'LSC3',\n",
    " 'LSC4',\n",
    " 'VOC1',\n",
    " 'VOC2',\n",
    " 'VOC3',\n",
    " 'HC1',\n",
    " 'HC3',\n",
    " 'HC4',\n",
    " 'HC9',\n",
    " 'HC10',\n",
    " 'HC12',\n",
    " 'HC14',\n",
    " 'HC15',\n",
    " 'HC16',\n",
    " 'HC20',\n",
    " 'HC21',\n",
    " 'MHUC1',\n",
    " 'MHUC2',\n",
    " 'AC1',\n",
    " 'AC2',\n",
    " 'CARDPROM',\n",
    " 'NUMPROM',\n",
    " 'CARDPM12',\n",
    " 'NUMPRM12',\n",
    " 'RAMNTALL',\n",
    " 'NGIFTALL',\n",
    " 'CARDGIFT',\n",
    " 'MINRAMNT',\n",
    " 'MAXRAMNT',\n",
    " 'LASTGIFT',\n",
    " 'TIMELAG',\n",
    " 'AVGGIFT',\n",
    " 'ODATEW_MM',\n",
    " 'MAXRDATE_YR',\n",
    " 'FIRSTDATE_YR']"
   ]
  },
  {
   "cell_type": "markdown",
   "id": "2e931842",
   "metadata": {},
   "source": [
    "##### Dropping columns from the concatenated data"
   ]
  },
  {
   "cell_type": "code",
   "execution_count": null,
   "id": "44d9b04e",
   "metadata": {},
   "outputs": [],
   "source": [
    "X_train= X_train_transformed.drop(columns =drop_col,axis=1)\n",
    "X_test= X_test_transformed.drop(columns =drop_col,axis=1)\n",
    "X_test.shape"
   ]
  },
  {
   "cell_type": "code",
   "execution_count": null,
   "id": "6c505b90",
   "metadata": {},
   "outputs": [],
   "source": [
    "corr = pd.concat([X_train,y],axis = 1)\n",
    "corr.shape"
   ]
  },
  {
   "cell_type": "code",
   "execution_count": null,
   "id": "750982f9",
   "metadata": {},
   "outputs": [],
   "source": [
    "# take out the columns with negative collinearity with target B\n",
    "negative_corr = corr.TARGET_D[corr.TARGET_D < 0].index.values.tolist()\n",
    "# take out the columns with awfully high collinearity with target B\n",
    "high_corr = corr.TARGET_D[corr.TARGET_D > .9].index.values.tolist()\n",
    "to_drop = negative_corr + high_corr\n",
    "print(len(X_train.columns))\n",
    "for i in to_drop:\n",
    "    try:\n",
    "        X_train = X_train.drop(columns = i)\n",
    "        X_test = X_test.drop(columns = i)\n",
    "    except:\n",
    "        pass\n",
    "corr = pd.concat([X_train, y], axis = 1).corr()\n",
    "print(len(X_train.columns))\n",
    "print(len(X_test.columns))"
   ]
  },
  {
   "cell_type": "code",
   "execution_count": null,
   "id": "34eeb91b",
   "metadata": {},
   "outputs": [],
   "source": [
    "from sklearn import linear_model\n",
    "from sklearn.metrics import r2_score\n",
    "from sklearn.metrics import mean_squared_error\n",
    "from sklearn.metrics import mean_absolute_error"
   ]
  },
  {
   "cell_type": "code",
   "execution_count": null,
   "id": "c2d5ed67",
   "metadata": {},
   "outputs": [],
   "source": [
    "X_train"
   ]
  },
  {
   "cell_type": "code",
   "execution_count": null,
   "id": "d8e8f43f",
   "metadata": {},
   "outputs": [],
   "source": [
    "lm = linear_model.LinearRegression()\n",
    "lm.fit(X_train,y_train)"
   ]
  },
  {
   "cell_type": "code",
   "execution_count": null,
   "id": "ce3f5d37",
   "metadata": {},
   "outputs": [],
   "source": [
    "predictions = lm.predict(X_train)\n",
    "predictions_test = lm.predict(X_test)\n",
    "r2_score = r2_score(y_test, predictions_test)\n",
    "#mean_score_train = np.mean(cross_val_score(lm, X_test_transformed, y_test, cv = 5))\n",
    "r2_score"
   ]
  },
  {
   "cell_type": "code",
   "execution_count": null,
   "id": "ab0b9d8b",
   "metadata": {},
   "outputs": [],
   "source": [
    "X_train.isna().sum().sum()"
   ]
  },
  {
   "cell_type": "code",
   "execution_count": null,
   "id": "64028e75",
   "metadata": {},
   "outputs": [],
   "source": [
    "y_test[:5]"
   ]
  },
  {
   "cell_type": "code",
   "execution_count": null,
   "id": "e7c899b5",
   "metadata": {},
   "outputs": [],
   "source": [
    "predictions_test[:5]"
   ]
  },
  {
   "cell_type": "code",
   "execution_count": null,
   "id": "b46d52a2",
   "metadata": {},
   "outputs": [],
   "source": [
    "print('the r2 score is :' ,r2_score)\n",
    "print('the mse error is:',mean_squared_error(y_test,predictions_test))\n",
    "print('the rmse error is:',np.sqrt(mean_squared_error(y_test,predictions_test)))\n",
    "print('the mae is:',mean_absolute_error(y_test, predictions_test))"
   ]
  },
  {
   "cell_type": "code",
   "execution_count": null,
   "id": "899f80df",
   "metadata": {},
   "outputs": [],
   "source": [
    "from sklearn.model_selection import cross_validate\n",
    "\n",
    "results = cross_validate(lm,X_train_transformed, y_train, cv = 5)"
   ]
  },
  {
   "cell_type": "code",
   "execution_count": null,
   "id": "40a38095",
   "metadata": {},
   "outputs": [],
   "source": [
    "results"
   ]
  },
  {
   "cell_type": "code",
   "execution_count": null,
   "id": "c8d564d0",
   "metadata": {},
   "outputs": [],
   "source": [
    "print(results['test_score'])\n",
    "print(results['test_score'].mean())"
   ]
  },
  {
   "cell_type": "markdown",
   "id": "dbf39ea8",
   "metadata": {},
   "source": [
    "After several dozen tries with different feature selections and reviewing the columns muticulously I was still getting a negative R2 score (with varying degrees). At this point, I don't understand how this is possible. I would welcome the opportunity to sit with one of the TAs to further discuss if I'm missing a step or perhaps I'm approaching this problem incorrectly. "
   ]
  },
  {
   "cell_type": "code",
   "execution_count": null,
   "id": "1802b805",
   "metadata": {},
   "outputs": [],
   "source": []
  }
 ],
 "metadata": {
  "kernelspec": {
   "display_name": "Python 3 (ipykernel)",
   "language": "python",
   "name": "python3"
  },
  "language_info": {
   "codemirror_mode": {
    "name": "ipython",
    "version": 3
   },
   "file_extension": ".py",
   "mimetype": "text/x-python",
   "name": "python",
   "nbconvert_exporter": "python",
   "pygments_lexer": "ipython3",
   "version": "3.9.13"
  }
 },
 "nbformat": 4,
 "nbformat_minor": 5
}
